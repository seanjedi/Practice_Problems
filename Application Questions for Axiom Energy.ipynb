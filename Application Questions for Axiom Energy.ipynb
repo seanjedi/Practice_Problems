{
 "cells": [
  {
   "cell_type": "markdown",
   "metadata": {
    "deletable": true,
    "editable": true
   },
   "source": [
    "# Application Questions for Axiom Exergy Inc Richmond, CA 94804"
   ]
  },
  {
   "cell_type": "markdown",
   "metadata": {
    "deletable": true,
    "editable": true
   },
   "source": [
    "## Question 1\n",
    "Given a string representing a Roman numeral, write a function to compute the Arabic numerical equivalent. \n",
    "For example:\n",
    "roman_to_arabic(\"MDCCLXXVI\")\n",
    "should return:\n",
    "1776.\n",
    "\n",
    "### Answer\n",
    "The rules for calculating a roman numeral are:\n",
    "1)A lower value to the left of a symbol is subtracted.\n",
    "2)A lower or equal value to the right of a symbol is added.\n",
    "\n",
    "With this, all we would need to do is create a dictionary with what each symbol corresponds to which number, and check if the number that is to the right of the current index is greater, if it is greater subtract, else add to the result."
   ]
  },
  {
   "cell_type": "code",
   "execution_count": 67,
   "metadata": {
    "collapsed": false,
    "deletable": true,
    "editable": true
   },
   "outputs": [
    {
     "name": "stdout",
     "output_type": "stream",
     "text": [
      "Enter a roman numeral: IXV\n",
      "14\n"
     ]
    }
   ],
   "source": [
    "def from_roman(num):\n",
    "    roman_numerals = {'I':1, 'V':5, 'X':10, 'L':50, 'C':100, 'D':500, 'M':1000}\n",
    "    result = 0\n",
    "    for i,c in enumerate(num):\n",
    "        if (i+1) == len(num) or roman_numerals[c] >= roman_numerals[num[i+1]]:\n",
    "            result += roman_numerals[c]\n",
    "        else:\n",
    "            result -= roman_numerals[c]\n",
    "    return result\n",
    "\n",
    "ns = str(input(\"Enter a roman numeral: \"))\n",
    "n = from_roman(ns);\n",
    "print(n)"
   ]
  },
  {
   "cell_type": "markdown",
   "metadata": {
    "deletable": true,
    "editable": true
   },
   "source": [
    "## Question 2\n",
    "Write a generic function to compute various scenarios for the following optimization problem: \n",
    "A farmer owns X acres of land. She profits P1 dollars per acre of corn and P2 dollars per acre of oats. Her team has Y hours of labor available. The corn takes H1 hours of labor per acre and oats require H2 hours of labor per acre. How many acres of each can be planted to maximize profits?\n",
    "Test the function for the following cases:\n",
    "\n",
    "\n",
    "##### a) X = 240, Y = 320, P1 = $40, P2 = $30, H1 = 2, H2 = 1\n",
    "##### b) X = 300, Y = 380, P1 = $70, P2 = $45, H1 = 3, H2 = 1\n",
    "##### c) X = 180, Y = 420, P1 = $65, P2 = $55, H1 = 3, H2 = 2\n",
    "\n",
    "### Answer\n",
    "For this question, I used a greedy algorithm to solve the problem, in which I will try to check which crop will give me the best results if I fill the garden up with as much as I can of each one, and fill in the rest by the other if there is room for it. This will also choose the best crop depending on if there is more time then space, or if there is more space then time. "
   ]
  },
  {
   "cell_type": "code",
   "execution_count": 68,
   "metadata": {
    "collapsed": false
   },
   "outputs": [
    {
     "name": "stdout",
     "output_type": "stream",
     "text": [
      "Enter X: 300\n",
      "Enter Y: 300\n",
      "Enter p1: 40\n",
      "Enter p2: 30\n",
      "Enter h1: 2\n",
      "Enter h2: 1\n",
      "There will be 0 of plant 1, 300 of plant 2, with a total income of: $9000\n"
     ]
    }
   ],
   "source": [
    "def farm_optimize(x, y, p1, p2, h1, h2):\n",
    "    plant1 = plant2 = profits = 0\n",
    "    payoff1, payoff2 = p1/h1, p2/h2\n",
    "    plant1 = int(y/h1)\n",
    "    while(plant1 > x):\n",
    "        plant1 -= 1\n",
    "    plant2 = int(y/h2)\n",
    "    while(plant2 > x):\n",
    "        plant2 -= 1\n",
    "    if((plant1*p1) > (plant2*p2)):\n",
    "        plant2 = 0\n",
    "        y -= plant1 * h1\n",
    "        x -= plant1\n",
    "        while(y > 0):\n",
    "            if(y > h2):\n",
    "                plant2 += 1\n",
    "                y -= h2\n",
    "            else:\n",
    "                break\n",
    "        while(plant2 > x):\n",
    "            plant2 -= 1\n",
    "    else:\n",
    "        plant1 = 0\n",
    "        y -= plant2 * h2\n",
    "        x -= plant2\n",
    "        while(y > 0):\n",
    "            if(y > h1):\n",
    "                plant1 += 1\n",
    "                y -= h1\n",
    "            else:\n",
    "                break\n",
    "        while(plant1 > x):\n",
    "            plant1 -= 1\n",
    "    profits = (plant1 * p1) + (plant2 * p2)\n",
    "    return plant1,plant2,profits\n",
    "\n",
    "x = int(input(\"Enter X: \"))\n",
    "y = int(input(\"Enter Y: \"))\n",
    "p1 = int(input(\"Enter p1: \"))\n",
    "p2 = int(input(\"Enter p2: \"))\n",
    "h1 = int(input(\"Enter h1: \"))\n",
    "h2 = int(input(\"Enter h2: \"))\n",
    "\n",
    "result1,result2,profit = farm_optimize(x,y,p1,p2,h1,h2)\n",
    "print(\"There will be \" + repr(result1) + \" of plant 1, \" + repr(result2) + \" of plant 2, with a total income of: $\" + repr(profit))"
   ]
  },
  {
   "cell_type": "markdown",
   "metadata": {
    "deletable": true,
    "editable": true
   },
   "source": [
    "## Question 3\n",
    "Given the set of data points, construct a piece-wise linear best-fit approximation (R^2 > 95%) to the curve:\n",
    "https://www.dropbox.com/s/8fxxgkrhej7xb0a/jsed_curve_fit.csv?dl=0 \n",
    "\n",
    "### Answer\n",
    "What I did for the answer of this qeustion was use 3 different python libraries: Pandas to store the data, numpy to calculate the linear piecewise nth-degree polynomial regression, and sklearn to get the R2 score of it to check it. As a visual I also included a plot of the results, in order to visualize what is happening. I choose a value of 4 for the degree, since this is the point where it seems to best fit the data, and doesn't seem to wildly overfit. Having a degree of 2 would suffice though."
   ]
  },
  {
   "cell_type": "code",
   "execution_count": 66,
   "metadata": {
    "collapsed": false,
    "deletable": true,
    "editable": true
   },
   "outputs": [
    {
     "name": "stdout",
     "output_type": "stream",
     "text": [
      "0.999574899339\n"
     ]
    },
    {
     "data": {
      "image/png": "[encoded data removed]",
      "text/plain": [
       "<matplotlib.figure.Figure at 0x2515779d438>"
      ]
     },
     "metadata": {},
     "output_type": "display_data"
    }
   ],
   "source": [
    "import pandas as pd\n",
    "import numpy as np\n",
    "import matplotlib.pyplot as plt\n",
    "from sklearn.metrics import r2_score\n",
    "\n",
    "# Read CSV from URL\n",
    "df = pd.read_csv('https://www.dropbox.com/s/8fxxgkrhej7xb0a/jsed_curve_fit.csv?dl=1')\n",
    "# Store values into two variables\n",
    "x = df['x']\n",
    "y = df['y']\n",
    "# Get the regression model\n",
    "regression = np.poly1d(np.polyfit(x, y, 5))\n",
    "\n",
    "# get and print R2 score\n",
    "r2 = r2_score(y, regression(x))\n",
    "print(r2)\n",
    "\n",
    "# Plot\n",
    "xp = np.linspace(0, 1700, 1500)\n",
    "plt.scatter(x, y)\n",
    "plt.plot(xp, regression(xp), c='r')\n",
    "plt.show()"
   ]
  },
  {
   "cell_type": "code",
   "execution_count": null,
   "metadata": {
    "collapsed": true,
    "deletable": true,
    "editable": true
   },
   "outputs": [],
   "source": []
  }
 ],
 "metadata": {
  "kernelspec": {
   "display_name": "Python 3",
   "language": "python",
   "name": "python3"
  },
  "language_info": {
   "codemirror_mode": {
    "name": "ipython",
    "version": 3
   },
   "file_extension": ".py",
   "mimetype": "text/x-python",
   "name": "python",
   "nbconvert_exporter": "python",
   "pygments_lexer": "ipython3",
   "version": "3.5.2"
  }
 },
 "nbformat": 4,
 "nbformat_minor": 2
}
